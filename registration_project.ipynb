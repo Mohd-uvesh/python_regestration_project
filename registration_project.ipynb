{
 "cells": [
  {
   "cell_type": "code",
   "execution_count": 1,
   "id": "d0501e26-6f44-43a8-b0e5-0719043d85d0",
   "metadata": {},
   "outputs": [],
   "source": [
    "from tkinter import *"
   ]
  },
  {
   "cell_type": "code",
   "execution_count": 2,
   "id": "90846cdb-419c-44ee-9d88-365809f9c8ad",
   "metadata": {},
   "outputs": [
    {
     "name": "stdout",
     "output_type": "stream",
     "text": [
      "Regitered\n"
     ]
    }
   ],
   "source": [
    "win=Tk()\n",
    "win.title(\"Registration\")\n",
    "win.geometry(\"800x600\")\n",
    "\n",
    "def register():\n",
    "    print(\"Regitered\")\n",
    "    \n",
    "Label(win,text=\"Python Regstration Form\",font=\"ariel 25\").pack(pady=50)\n",
    "     \n",
    "Label(text=\"Name\",font=('',22,'bold')).place(x=100,y=135)\n",
    "Label(text=\"Phone\",font=('',22,'bold')).place(x=98,y=195)\n",
    "Label(text=\"Gender\",font=('',21,'bold')).place(x=98,y=255)\n",
    "Label(text=\"Email\",font=('',23,'bold')).place(x=98,y=317)\n",
    "        \n",
    "e1=Entry(win,font=('',17),bd=5)\n",
    "e1.place(relx=.3,rely=.21)\n",
    "\n",
    "e2=Entry(win,font=('',17),bd=5)\n",
    "e2.place(relx=.3,rely=.31)\n",
    "\n",
    "e3=Entry(win,font=('',17,'bold'),bd=5)\n",
    "e3.place(relx=.3,rely=.41)\n",
    "\n",
    "e4=Entry(win,font=('',20,'bold'),bd=5)\n",
    "e4.place(relx=.3,rely=.53)\n",
    "\n",
    "b=Checkbutton(text=\"Remember me?\")\n",
    "b.place(relx=.30,rely=.62)\n",
    "\n",
    "B=Button(text=\"Register\",font=('',25),bd=5,command=register)\n",
    "B.place(relx=.30,rely=.70)\n",
    "\n",
    "win.mainloop()"
   ]
  },
  {
   "cell_type": "code",
   "execution_count": null,
   "id": "63c06616-c607-4810-b0fc-a767eeeb4262",
   "metadata": {},
   "outputs": [],
   "source": []
  }
 ],
 "metadata": {
  "kernelspec": {
   "display_name": "Python 3 (ipykernel)",
   "language": "python",
   "name": "python3"
  },
  "language_info": {
   "codemirror_mode": {
    "name": "ipython",
    "version": 3
   },
   "file_extension": ".py",
   "mimetype": "text/x-python",
   "name": "python",
   "nbconvert_exporter": "python",
   "pygments_lexer": "ipython3",
   "version": "3.10.9"
  }
 },
 "nbformat": 4,
 "nbformat_minor": 5
}
